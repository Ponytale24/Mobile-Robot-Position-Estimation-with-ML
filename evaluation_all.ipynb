{
 "cells": [
  {
   "cell_type": "code",
   "execution_count": 1,
   "metadata": {},
   "outputs": [],
   "source": [
    "import matplotlib.pyplot as plt\n",
    "import numpy as np\n",
    "import seaborn as sns\n",
    "import pandas as pd\n",
    "from utils.preprocess_data import load_dataset\n",
    "import os\n",
    "import datetime"
   ]
  },
  {
   "cell_type": "code",
   "execution_count": 2,
   "metadata": {},
   "outputs": [],
   "source": [
    "# Loading train and validation split \n",
    "train_data = load_dataset(split=\"train\")\n",
    "val_data = load_dataset(split=\"valid\")"
   ]
  },
  {
   "cell_type": "markdown",
   "metadata": {},
   "source": [
    "## Duration"
   ]
  },
  {
   "cell_type": "code",
   "execution_count": 3,
   "metadata": {},
   "outputs": [],
   "source": [
    "def calculate_duration_in_minutes(start_timestamp, end_timestamp):\n",
    "    # Convert Unix timestamps to datetime objects\n",
    "    start_datetime = datetime.datetime.fromtimestamp(int(start_timestamp/1000), datetime.UTC)\n",
    "    end_datetime = datetime.datetime.fromtimestamp(int(end_timestamp/1000), datetime.UTC)\n",
    "    # Calculate the duration in seconds\n",
    "    duration_seconds = (end_datetime - start_datetime).total_seconds()\n",
    "    # Convert seconds to minutes\n",
    "    duration_minutes = duration_seconds / 60\n",
    "    return duration_minutes\n",
    "\n",
    "def convert_decimal_to_min_sec(decimal_minutes):\n",
    "    # Extract integer part as minutes\n",
    "    minutes = int(decimal_minutes)\n",
    "    \n",
    "    # Convert remaining decimal part to seconds\n",
    "    remaining_seconds = decimal_minutes * 60 % 60\n",
    "    \n",
    "    # Format the result as minutes and seconds\n",
    "    min_sec_format = '{:02d}:{:02d}'.format(minutes, int(remaining_seconds))\n",
    "    \n",
    "    return min_sec_format"
   ]
  },
  {
   "cell_type": "code",
   "execution_count": 4,
   "metadata": {},
   "outputs": [],
   "source": [
    "length = []\n",
    "duration = []\n",
    "for trial_num in range(len(os.listdir(\"data/train\"))):\n",
    "    length_trial = len(train_data.loc[trial_num])\n",
    "    length.append(length_trial)\n",
    "    start = train_data.loc[trial_num, \"tStart\"][0]\n",
    "    end = train_data.loc[trial_num, \"tStart\"][length_trial-1]\n",
    "    duration.append(calculate_duration_in_minutes(start,end))"
   ]
  },
  {
   "cell_type": "code",
   "execution_count": 5,
   "metadata": {},
   "outputs": [
    {
     "name": "stdout",
     "output_type": "stream",
     "text": [
      "Minimal length (timesteps): 550, Maximal length (timesteps):2245\n",
      "Minimal duration (min:secs): 00:34, Maximal duration (min:secs): 02:21\n"
     ]
    }
   ],
   "source": [
    "print(f\"Minimal length (timesteps): {min(length)}, Maximal length (timesteps):{max(length)}\")\n",
    "print(f\"Minimal duration (min:secs): {convert_decimal_to_min_sec(min(duration))}, Maximal duration (min:secs): {convert_decimal_to_min_sec(max(duration))}\")"
   ]
  },
  {
   "cell_type": "markdown",
   "metadata": {},
   "source": [
    "## Correlation"
   ]
  },
  {
   "cell_type": "code",
   "execution_count": 6,
   "metadata": {},
   "outputs": [
    {
     "data": {
      "image/png": "[encoded data removed]",
      "text/plain": [
       "<Figure size 1000x200 with 2 Axes>"
      ]
     },
     "metadata": {},
     "output_type": "display_data"
    }
   ],
   "source": [
    "rpi_data = load_dataset(split=\"rpi\")\n",
    "correlation_matrix = rpi_data[[\"xR\",\"yR\",\"theta\",\"xV\",\"yV\",\"axP\",\"ayP\",\"azP\"]].corr()\n",
    "\n",
    "plt.figure(figsize=(10, 2))\n",
    "sns.heatmap(correlation_matrix.loc[[\"xV\",\"yV\"],:].drop(columns=[\"xV\",\"yV\"]), annot=True, cmap='coolwarm', fmt=\".2f\", linewidths=0.5)\n",
    "plt.title('Correlation Matrix')\n",
    "plt.show()"
   ]
  },
  {
   "cell_type": "markdown",
   "metadata": {},
   "source": [
    "## Delay"
   ]
  },
  {
   "cell_type": "code",
   "execution_count": 12,
   "metadata": {},
   "outputs": [
    {
     "name": "stdout",
     "output_type": "stream",
     "text": [
      "TRAIN: Maximal 37.3837890625, Mean 5.734114323860205 with std of 2.075698999341072\n",
      "VALID: Maximal 51.897705078125, Mean 5.798767372741346 with std of 2.3797074244784056\n",
      "ALL: Maximal 51.897705078125, Mean 5.750284612567472 with std of 2.155940118261478\n"
     ]
    }
   ],
   "source": [
    "# calculate mean delay for all data\n",
    "\n",
    "delay_train = train_data[\"tV\"]-train_data[\"tStart\"]\n",
    "delay_valid = val_data[\"tV\"]-val_data[\"tStart\"]\n",
    "stacked_series = pd.concat([delay_train, delay_valid])\n",
    "\n",
    "print(f\"TRAIN: Maximal {np.max(delay_train)}, Mean {np.mean(delay_train)} with std of {np.std(delay_train)}\")\n",
    "print(f\"VALID: Maximal {np.max(delay_valid)}, Mean {np.mean(delay_valid)} with std of {np.std(delay_valid)}\")\n",
    "print(f\"ALL: Maximal {np.max(stacked_series)}, Mean {np.mean(stacked_series)} with std of {np.std(stacked_series)}\")\n"
   ]
  },
  {
   "cell_type": "markdown",
   "metadata": {},
   "source": [
    "### Delay with RPi"
   ]
  },
  {
   "cell_type": "code",
   "execution_count": 13,
   "metadata": {},
   "outputs": [
    {
     "name": "stdout",
     "output_type": "stream",
     "text": [
      "ALL: Maximal 546.4375, Mean 30.2354697305906 with std of 12.888380762434592\n"
     ]
    }
   ],
   "source": [
    "delay_rpi = rpi_data[\"tV\"]-rpi_data[\"tStart\"]\n",
    "print(f\"ALL: Maximal {np.max(delay_rpi)}, Mean {np.mean(delay_rpi)} with std of {np.std(delay_rpi)}\")"
   ]
  }
 ],
 "metadata": {
  "kernelspec": {
   "display_name": "Python 3",
   "language": "python",
   "name": "python3"
  },
  "language_info": {
   "codemirror_mode": {
    "name": "ipython",
    "version": 3
   },
   "file_extension": ".py",
   "mimetype": "text/x-python",
   "name": "python",
   "nbconvert_exporter": "python",
   "pygments_lexer": "ipython3",
   "version": "3.12.2"
  }
 },
 "nbformat": 4,
 "nbformat_minor": 2
}
